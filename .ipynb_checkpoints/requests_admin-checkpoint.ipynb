{
 "cells": [
  {
   "cell_type": "code",
   "execution_count": 57,
   "metadata": {},
   "outputs": [],
   "source": [
    "from __future__ import print_function    # (at top of module)\n",
    "import sys\n",
    "import time\n",
    "\n",
    "import json\n",
    "import requests\n",
    "from props.default import *\n"
   ]
  },
  {
   "cell_type": "markdown",
   "metadata": {},
   "source": [
    "# Miscellaneous Functions"
   ]
  },
  {
   "cell_type": "code",
   "execution_count": 2,
   "metadata": {},
   "outputs": [],
   "source": [
    "def log(m):\n",
    "        print(m)\n",
    "        \n",
    "def setToken(t):\n",
    "    global DL_TOKEN \n",
    "    DL_TOKEN = { 'Authorization' : 'DirectLogin token=%s' % t}\n",
    "    \n",
    "def mergeHeaders(x, y):\n",
    "    z = x.copy()\n",
    "    z.update(y)\n",
    "    return z\n",
    "\n",
    "def merge_headers_list(header_list):\n",
    "    output_dict = {}\n",
    "    for header in header_list:\n",
    "        output_dict.update(header)\n",
    "    return output_dict\n",
    "        \n",
    "\n",
    "CONTENT_JSON  = { 'content-type'  : 'application/json' }"
   ]
  },
  {
   "cell_type": "markdown",
   "metadata": {},
   "source": [
    "# 1. Login in"
   ]
  },
  {
   "cell_type": "code",
   "execution_count": 3,
   "metadata": {},
   "outputs": [],
   "source": [
    "def login(username, password, consumer_key):\n",
    "    login_url = '{0}/my/logins/direct'.format(BASE_URL)\n",
    "    login_header  = { 'Authorization' : 'DirectLogin username=\"%s\",password=\"%s\",consumer_key=\"%s\"' % (username, password, consumer_key)}\n",
    "    # Login and receive authorized token\n",
    "    log('Login as {0} to {1}'.format(login_header, login_url))\n",
    "    r = requests.post(login_url, headers=login_header)\n",
    "    if (r.status_code != 201):\n",
    "        log(\"error: could not login\")\n",
    "        log(\"text: \" + r.text)\n",
    "        return r.text\n",
    "    t = r.json()['token']\n",
    "    log(\"Received token: {0}\".format(t))\n",
    "    setToken(t)\n",
    "    return t, login_header"
   ]
  },
  {
   "cell_type": "code",
   "execution_count": 4,
   "metadata": {},
   "outputs": [
    {
     "name": "stdout",
     "output_type": "stream",
     "text": [
      "Login as {'Authorization': 'DirectLogin username=\"\",password=\"\",consumer_key=\"\"'} to ",
      "Received token: "
     ]
    }
   ],
   "source": [
    "token, login_header = login('', '', '')\n"
   ]
  },
  {
   "cell_type": "markdown",
   "metadata": {},
   "source": [
    "# 2. Admin requests"
   ]
  },
  {
   "cell_type": "markdown",
   "metadata": {},
   "source": [
    "### Giving access to myself"
   ]
  },
  {
   "cell_type": "code",
   "execution_count": 277,
   "metadata": {},
   "outputs": [
    {
     "data": {
      "text/plain": [
       "'{\"error\":\"OBP-30216: Entitlement already exists for the user.\"}'"
      ]
     },
     "execution_count": 277,
     "metadata": {},
     "output_type": "execute_result"
    }
   ],
   "source": [
    "# giving acces to myself\n",
    "MY_KEY = ''\n",
    "MY_ID = ''\n",
    "\n",
    "def add_entitlement(entitlement, user, bank=''):\n",
    "    post_data = {\n",
    "        'bank_id'   : '%s' % bank,\n",
    "        'role_name' : '%s' % entitlement \n",
    "    }\n",
    "    # Send post request with attached json\n",
    "    response = requests.post(u\"{0}/obp/{1}/users/{2}/entitlements\".format(BASE_URL, API_VERSION, user), json=post_data, headers=mergeHeaders(DL_TOKEN, CONTENT_JSON))\n",
    "    # Log result\n",
    "    return response.text\n",
    "\n",
    "def get_entitlement_list(user):\n",
    "    r = requests.get(u\"{0}/obp/{1}/banks/{2}/users/{3}/entitlements\".format(BASE_URL, API_VERSION, bank, user), headers=mergeHeaders(DL_TOKEN, CONTENT_JSON))\n",
    "\n",
    "add_entitlement('CanSearchWarehouse', MY_ID)"
   ]
  },
  {
   "cell_type": "markdown",
   "metadata": {},
   "source": [
    "### Searching users"
   ]
  },
  {
   "cell_type": "code",
   "execution_count": 13,
   "metadata": {},
   "outputs": [],
   "source": [
    "# List of users\n",
    "signature = 'users'\n",
    "r = requests.get(u\"{0}/obp/{1}/{2}\".format(BASE_URL, API_VERSION, signature) ,headers=mergeHeaders(DL_TOKEN, CONTENT_JSON))\n",
    "# old_dic = r.json()\n",
    "# old_dic['users']\n"
   ]
  },
  {
   "cell_type": "code",
   "execution_count": 14,
   "metadata": {},
   "outputs": [],
   "source": [
    "# Get user by username\n",
    "def get_user(username):\n",
    "    signature = 'users/username/{}'.format(username)\n",
    "    r = requests.get(u\"{0}/obp/{1}/{2}\".format(BASE_URL, API_VERSION, signature) ,headers=mergeHeaders(DL_TOKEN, CONTENT_JSON))\n",
    "    return r.json()\n",
    "\n",
    "# get_user('marcotest')"
   ]
  },
  {
   "cell_type": "code",
   "execution_count": 15,
   "metadata": {},
   "outputs": [],
   "source": [
    "# Get user by user_id\n",
    "signature = 'users/user_id/{}'.format(MY_ID)\n",
    "r = requests.get(u\"{0}/obp/{1}/{2}\".format(BASE_URL, API_VERSION, signature) ,headers=mergeHeaders(DL_TOKEN, CONTENT_JSON))\n",
    "# r.json()"
   ]
  },
  {
   "cell_type": "markdown",
   "metadata": {},
   "source": [
    "### Giving an entitlement to a user based on his username"
   ]
  },
  {
   "cell_type": "code",
   "execution_count": 239,
   "metadata": {},
   "outputs": [],
   "source": [
    "def get_user_id(username):\n",
    "    signature = 'users/username/{}'.format(username)\n",
    "    r = requests.get(u\"{0}/obp/{1}/{2}\".format(BASE_URL, API_VERSION, signature) ,headers=mergeHeaders(DL_TOKEN, CONTENT_JSON))\n",
    "    return r.json()['user_id']\n",
    "\n",
    "def get_user_email(username):\n",
    "    signature = 'users/username/{}'.format(username)\n",
    "    r = requests.get(u\"{0}/obp/{1}/{2}\".format(BASE_URL, API_VERSION, signature) ,headers=mergeHeaders(DL_TOKEN, CONTENT_JSON))\n",
    "    return r.json()['email']\n"
   ]
  },
  {
   "cell_type": "code",
   "execution_count": 145,
   "metadata": {},
   "outputs": [
    {
     "name": "stdout",
     "output_type": "stream",
     "text": [
      "Granted role CanReadMetrics to user : \n"
     ]
    }
   ],
   "source": [
    "user_id = get_user_id('marcotest')\n",
    "add_"
   ]
  },
  {
   "cell_type": "code",
   "execution_count": 151,
   "metadata": {},
   "outputs": [
    {
     "data": {
      "text/plain": [
       "{'user_id': '',\n",
       " 'email': '',\n",
       " 'provider_id': 'marcotest',\n",
       " 'provider': '',\n",
       " 'username': 'marcotest',\n",
       " 'entitlements': {'list': []}}"
      ]
     },
     "execution_count": 151,
     "metadata": {},
     "output_type": "execute_result"
    }
   ],
   "source": [
    "get_user('marcotest')"
   ]
  },
  {
   "cell_type": "markdown",
   "metadata": {},
   "source": [
    "# 3. Participant requests"
   ]
  },
  {
   "cell_type": "markdown",
   "metadata": {},
   "source": [
    "## Data Warehouse"
   ]
  },
  {
   "cell_type": "code",
   "execution_count": 309,
   "metadata": {},
   "outputs": [],
   "source": [
    "def request_datawarehouse(field):\n",
    "    post_data = {\n",
    "        \"size\" : 20,\n",
    "        \"query\"   : {\"match_all\":{          }  },\n",
    "        \"search_after\" : [50],\n",
    "        \"sort\": [{\"customre_id\":\"asc\"}]\n",
    "    }\n",
    "    # Send post request with attached json\n",
    "#     param_scroll = {\"scroll\":\"1m\"}\n",
    "    response = requests.post(u\"{0}/obp/{1}/search/warehouse/{2}\".format(BASE_URL, API_VERSION, field), json=post_data, headers=mergeHeaders(DL_TOKEN, CONTENT_JSON))\n",
    "    return response.json()"
   ]
  },
  {
   "cell_type": "code",
   "execution_count": 303,
   "metadata": {},
   "outputs": [],
   "source": [
    "def request_datawarehouse_agg():\n",
    "    post_data = {\n",
    "         \"size\" : 20,\n",
    "        \"aggs\": {\n",
    "            \"byindex\": {\n",
    "                  \"terms\": {\n",
    "                    \"field\": \"_index\"\n",
    "                  }\n",
    "                }\n",
    "        },\n",
    "        \"query\"   : {\"match_all\":{          }  },\n",
    "    }\n",
    "    # Send post request with attached json\n",
    "    response = requests.post(u\"{0}/obp/{1}/search/warehouse/{2}\".format(BASE_URL, API_VERSION, 'ALL'), json=post_data, headers=mergeHeaders(DL_TOKEN, CONTENT_JSON))\n",
    "    return response.json()"
   ]
  }
 ],
 "metadata": {
  "kernelspec": {
   "display_name": "Python 3",
   "language": "python",
   "name": "python3"
  },
  "language_info": {
   "codemirror_mode": {
    "name": "ipython",
    "version": 3
   },
   "file_extension": ".py",
   "mimetype": "text/x-python",
   "name": "python",
   "nbconvert_exporter": "python",
   "pygments_lexer": "ipython3",
   "version": "3.6.5"
  }
 },
 "nbformat": 4,
 "nbformat_minor": 2
}
