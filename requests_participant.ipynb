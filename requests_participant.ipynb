{
 "cells": [
  {
   "cell_type": "code",
   "execution_count": 1,
   "metadata": {},
   "outputs": [],
   "source": [
    "from __future__ import print_function    # (at top of module)\n",
    "import sys\n",
    "import time\n",
    "\n",
    "import json\n",
    "import requests\n",
    "from props.default import *\n"
   ]
  },
  {
   "cell_type": "markdown",
   "metadata": {},
   "source": [
    "# Miscellaneous Functions"
   ]
  },
  {
   "cell_type": "code",
   "execution_count": 2,
   "metadata": {},
   "outputs": [],
   "source": [
    "def log(m):\n",
    "        print(m)\n",
    "        \n",
    "def setToken(t):\n",
    "    global DL_TOKEN \n",
    "    DL_TOKEN = { 'Authorization' : 'DirectLogin token=%s' % t}\n",
    "    \n",
    "def mergeHeaders(x, y):\n",
    "    z = x.copy()\n",
    "    z.update(y)\n",
    "    return z\n",
    "\n",
    "def merge_headers_list(header_list):\n",
    "    output_dict = {}\n",
    "    for header in header_list:\n",
    "        output_dict.update(header)\n",
    "    return output_dict\n",
    "        \n",
    "\n",
    "CONTENT_JSON  = { 'content-type'  : 'application/json' }"
   ]
  },
  {
   "cell_type": "markdown",
   "metadata": {},
   "source": [
    "# 1. Login in"
   ]
  },
  {
   "cell_type": "code",
   "execution_count": 3,
   "metadata": {},
   "outputs": [],
   "source": [
    "def login(username, password, consumer_key):\n",
    "    login_url = '{0}/my/logins/direct'.format(BASE_URL)\n",
    "    login_header  = { 'Authorization' : 'DirectLogin username=\"%s\",password=\"%s\",consumer_key=\"%s\"' % (username, password, consumer_key)}\n",
    "    # Login and receive authorized token\n",
    "    log('Login as {0} to {1}'.format(login_header, login_url))\n",
    "    r = requests.post(login_url, headers=login_header)\n",
    "    if (r.status_code != 201):\n",
    "        log(\"error: could not login\")\n",
    "        log(\"text: \" + r.text)\n",
    "        return r.text\n",
    "    t = r.json()['token']\n",
    "    log(\"Received token: {0}\".format(t))\n",
    "    setToken(t)\n",
    "    return t, login_header"
   ]
  },
  {
   "cell_type": "code",
   "execution_count": 4,
   "metadata": {},
   "outputs": [
    {
     "name": "stdout",
     "output_type": "stream",
     "text": [
      "Login as {'Authorization': 'DirectLogin username=\"\",password=\"\",consumer_key=\"\"'} to https://bnpparibas-irb.openbankproject.com/my/logins/direct\n",
      "error: could not login\n",
      "text: {\"error\":\"OBP-20002: These DirectLogin parameters are missing: username, password, consumer_key\"}\n"
     ]
    },
    {
     "ename": "ValueError",
     "evalue": "too many values to unpack (expected 2)",
     "output_type": "error",
     "traceback": [
      "\u001b[0;31m---------------------------------------------------------------------------\u001b[0m",
      "\u001b[0;31mValueError\u001b[0m                                Traceback (most recent call last)",
      "\u001b[0;32m<ipython-input-4-b8030df1f036>\u001b[0m in \u001b[0;36m<module>\u001b[0;34m()\u001b[0m\n\u001b[0;32m----> 1\u001b[0;31m \u001b[0mtoken\u001b[0m\u001b[0;34m,\u001b[0m \u001b[0mlogin_header\u001b[0m \u001b[0;34m=\u001b[0m \u001b[0mlogin\u001b[0m\u001b[0;34m(\u001b[0m\u001b[0;34m''\u001b[0m\u001b[0;34m,\u001b[0m \u001b[0;34m''\u001b[0m\u001b[0;34m,\u001b[0m \u001b[0;34m''\u001b[0m\u001b[0;34m)\u001b[0m\u001b[0;34m\u001b[0m\u001b[0m\n\u001b[0m",
      "\u001b[0;31mValueError\u001b[0m: too many values to unpack (expected 2)"
     ]
    }
   ],
   "source": [
    "token, login_header = login('', '', '')\n"
   ]
  },
  {
   "cell_type": "markdown",
   "metadata": {},
   "source": [
    "# 2. Data Warehouse"
   ]
  },
  {
   "cell_type": "code",
   "execution_count": 309,
   "metadata": {},
   "outputs": [],
   "source": [
    "def request_datawarehouse(field):\n",
    "    post_data = {\n",
    "        \"size\" : 20,\n",
    "        \"query\"   : {\"match_all\":{          }  },\n",
    "        \"search_after\" : [50],\n",
    "        \"sort\": [{\"customre_id\":\"asc\"}]\n",
    "    }\n",
    "    # Send post request with attached json\n",
    "#     param_scroll = {\"scroll\":\"1m\"}\n",
    "    response = requests.post(u\"{0}/obp/{1}/search/warehouse/{2}\".format(BASE_URL, API_VERSION, field), json=post_data, headers=mergeHeaders(DL_TOKEN, CONTENT_JSON))\n",
    "    return response.json()"
   ]
  },
  {
   "cell_type": "code",
   "execution_count": 303,
   "metadata": {},
   "outputs": [],
   "source": [
    "def request_datawarehouse_agg():\n",
    "    post_data = {\n",
    "         \"size\" : 20,\n",
    "        \"aggs\": {\n",
    "            \"byindex\": {\n",
    "                  \"terms\": {\n",
    "                    \"field\": \"_index\"\n",
    "                  }\n",
    "                }\n",
    "        },\n",
    "        \"query\"   : {\"match_all\":{          }  },\n",
    "    }\n",
    "    # Send post request with attached json\n",
    "    response = requests.post(u\"{0}/obp/{1}/search/warehouse/{2}\".format(BASE_URL, API_VERSION, 'ALL'), json=post_data, headers=mergeHeaders(DL_TOKEN, CONTENT_JSON))\n",
    "    return response.json()"
   ]
  }
 ],
 "metadata": {
  "kernelspec": {
   "display_name": "Python 3",
   "language": "python",
   "name": "python3"
  },
  "language_info": {
   "codemirror_mode": {
    "name": "ipython",
    "version": 3
   },
   "file_extension": ".py",
   "mimetype": "text/x-python",
   "name": "python",
   "nbconvert_exporter": "python",
   "pygments_lexer": "ipython3",
   "version": "3.6.1"
  }
 },
 "nbformat": 4,
 "nbformat_minor": 2
}
